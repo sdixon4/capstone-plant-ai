{
 "cells": [
  {
   "cell_type": "code",
   "execution_count": null,
   "id": "e9b2e3f3-ff52-4cb0-9948-ba5f56ab85a2",
   "metadata": {},
   "outputs": [],
   "source": [
    "import pandas as pd\n",
    "import numpy as np\n",
    "import random\n",
    "import matplotlib.pyplot as plt\n",
    "\n",
    "# Load and parse the data\n",
    "df = pd.read_csv(\"simulated_sensor_data.csv\")\n",
    "df[\"timestamp\"] = pd.to_datetime(df[\"timestamp\"])\n",
    "df.set_index(\"timestamp\", inplace=True)\n",
    "df.head()\n"
   ]
  },
  {
   "cell_type": "code",
   "execution_count": null,
   "id": "5d5efa16-eb60-454f-924c-a2189ab37e9a",
   "metadata": {},
   "outputs": [],
   "source": [
    "# Set seed for reproducibility\n",
    "np.random.seed(42)\n",
    "\n",
    "# 2% dropout\n",
    "dropout_pct = 0.02\n",
    "dropout_indices = random.sample(list(df.index), int(len(df) * dropout_pct))\n",
    "\n",
    "# Inject dropout\n",
    "df.loc[dropout_indices, \"moisture_pct\"] = np.nan\n",
    "\n",
    "# Preview dropout\n",
    "print(f\"Dropped out {len(dropout_indices)} moisture values.\")\n",
    "df[\"moisture_pct\"].isna().sum()\n"
   ]
  },
  {
   "cell_type": "code",
   "execution_count": null,
   "id": "7fcc4a61-47ec-430e-a2a9-3d6ed4cfea73",
   "metadata": {},
   "outputs": [],
   "source": [
    "df[\"moisture_pct\"].plot(figsize=(12, 4), title=\"Moisture Sensor with Dropout\", grid=True)\n",
    "plt.ylabel(\"Moisture (%)\")\n",
    "plt.xlabel(\"Time\")\n",
    "plt.show()\n"
   ]
  },
  {
   "cell_type": "code",
   "execution_count": null,
   "id": "2f13a9df-0eb8-4007-b354-a7277ffa6eca",
   "metadata": {},
   "outputs": [],
   "source": [
    "# Define start index for stuck-at fault (somewhere after hour 24)\n",
    "stuck_start = 300\n",
    "stuck_length = 100\n",
    "\n",
    "# Apply stuck-at fault\n",
    "df.iloc[stuck_start:stuck_start+stuck_length, df.columns.get_loc(\"temp_C\")] = 37.0\n",
    "\n",
    "print(f\"Injected stuck-at-37.0°C fault from index {stuck_start} to {stuck_start + stuck_length}\")\n"
   ]
  },
  {
   "cell_type": "code",
   "execution_count": null,
   "id": "36762eac-557a-4f6a-be99-af2ff1decf41",
   "metadata": {},
   "outputs": [],
   "source": [
    "df[\"temp_C\"].plot(figsize=(12, 4), title=\"Temperature Sensor with Stuck-at Fault\", grid=True)\n",
    "plt.ylabel(\"Temp (°C)\")\n",
    "plt.show()\n"
   ]
  },
  {
   "cell_type": "code",
   "execution_count": null,
   "id": "6fa51d3d-f999-48bb-a659-8dc207a71329",
   "metadata": {},
   "outputs": [],
   "source": [
    "# Choose start index for noise burst (e.g. hour 48)\n",
    "noise_start = 576\n",
    "noise_length = 30\n",
    "\n",
    "# Inject noisy values\n",
    "for i in range(noise_start, noise_start + noise_length):\n",
    "    df.iloc[i, df.columns.get_loc(\"co2_ppm\")] += np.random.normal(200, 50)  # Big deviation\n",
    "\n",
    "print(f\"Injected noise burst into CO₂ sensor from index {noise_start} to {noise_start + noise_length}\")\n"
   ]
  },
  {
   "cell_type": "code",
   "execution_count": null,
   "id": "7a78b382-d4ad-4ebd-8911-dc94029d5607",
   "metadata": {},
   "outputs": [],
   "source": [
    "df[\"co2_ppm\"].plot(figsize=(12, 4), title=\"CO₂ Sensor with Noise Burst\", grid=True)\n",
    "plt.ylabel(\"CO₂ (ppm)\")\n",
    "plt.show()\n"
   ]
  },
  {
   "cell_type": "code",
   "execution_count": null,
   "id": "9a192209-7ce7-40a5-9096-e819ac36c0aa",
   "metadata": {},
   "outputs": [],
   "source": [
    "# Rule-based fallback reason generator\n",
    "def get_fallback_reason(temp, moisture, co2, light):\n",
    "    reasons = []\n",
    "\n",
    "    # Rule 1: Overheat\n",
    "    if temp > 35:\n",
    "        reasons.append(\"high_temp\")\n",
    "\n",
    "    # Rule 2: Drought\n",
    "    if moisture < 40:\n",
    "        reasons.append(\"low_moisture\")\n",
    "\n",
    "    # Rule 3: Sensor dropout\n",
    "    if pd.isna(moisture):\n",
    "        reasons.append(\"moisture_dropout\")\n",
    "\n",
    "    # Rule 4: Suspicious CO₂ (e.g., > 800 ppm might be a fault)\n",
    "    if co2 > 800:\n",
    "        reasons.append(\"co2_noise\")\n",
    "\n",
    "    return reasons\n"
   ]
  },
  {
   "cell_type": "code",
   "execution_count": null,
   "id": "1a88b482-1e40-4349-a13a-1a7b7c543713",
   "metadata": {},
   "outputs": [],
   "source": [
    "# Loop through DataFrame and collect fallback logs\n",
    "fallback_log = []\n",
    "\n",
    "for idx, row in df.iterrows():\n",
    "    reasons = get_fallback_reason(\n",
    "        row[\"temp_C\"], row[\"moisture_pct\"], row[\"co2_ppm\"], row[\"light_lux\"]\n",
    "    )\n",
    "    \n",
    "    if reasons:  # Only log if fallback condition(s) occurred\n",
    "        fallback_log.append({\n",
    "            \"timestamp\": str(idx),  # use str() to make it JSON serializable\n",
    "            \"reasons\": reasons\n",
    "        })\n",
    "\n",
    "print(f\"Total fallback events logged: {len(fallback_log)}\")\n"
   ]
  },
  {
   "cell_type": "code",
   "execution_count": null,
   "id": "fc6a1d20-d840-485b-aa17-9293456ebd72",
   "metadata": {},
   "outputs": [],
   "source": []
  },
  {
   "cell_type": "code",
   "execution_count": null,
   "id": "4c9237b0-fecb-45b0-9c9c-e196891de0ba",
   "metadata": {},
   "outputs": [],
   "source": []
  }
 ],
 "metadata": {
  "kernelspec": {
   "display_name": "Python 3 (ipykernel)",
   "language": "python",
   "name": "python3"
  },
  "language_info": {
   "codemirror_mode": {
    "name": "ipython",
    "version": 3
   },
   "file_extension": ".py",
   "mimetype": "text/x-python",
   "name": "python",
   "nbconvert_exporter": "python",
   "pygments_lexer": "ipython3",
   "version": "3.12.9"
  }
 },
 "nbformat": 4,
 "nbformat_minor": 5
}
